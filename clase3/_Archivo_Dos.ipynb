{
 "cells": [
  {
   "cell_type": "code",
   "execution_count": 44,
   "metadata": {},
   "outputs": [
    {
     "name": "stdout",
     "output_type": "stream",
     "text": [
      "1\n",
      "<class 'str'>\n",
      "['a', 'b', 1, 1.8]\n"
     ]
    }
   ],
   "source": [
    "#variable entera\n",
    "#variable_int =12\n",
    "#print(variable_int)\n",
    "\n",
    "my_string= \"thisStringisAwesome\" #variable\n",
    "\n",
    "my_string.upper() #pasa el texto a mayuscula\n",
    "my_string.lower() #pasa el texto a minuscula\n",
    "my_string.count(\"th\") #contar letras, en este caso cuenta el número de letras \"s\" que se repite en el texto\n",
    "my_string.replace(\"i\",\"x\") #reemplaza letras busca la letra i y la reemplaza por la letra x\n",
    "my_string.replace(\"String\", \"Awesome\") #reemplaza la palabra String por la palabra Awesome\n",
    "\n",
    "my_string_dos=\"texto dos\" #variable\n",
    "my_string+my_string_dos #une el texto de las 2 variables CONCATENAR +\n",
    "'me' in my_string #búsqueda de texto, busca las letras \"me\"\n",
    "\n",
    "#texto va con comillas y número sin comillas\n",
    "lista= [\"a\", \"b\", 1, 1.8] #para python la lista se pone con corchetes\n",
    "\n",
    "print(lista[2]) #muestra la ubicación de la letra con el número va de 0 a ...\n",
    "print(type(lista[0])) #indica el tipo de variable si es entero o texto\n",
    "print(lista[0:2]) #extraer los valores de la lista, el limite que hay en este caso entre 0 y 2\n",
    "\n",
    "\n",
    "\n",
    "#string no cuenta números\n",
    "#bolean retorna true (1), false (0)"
   ]
  },
  {
   "cell_type": "code",
   "execution_count": 7,
   "metadata": {},
   "outputs": [
    {
     "name": "stdout",
     "output_type": "stream",
     "text": [
      "thisStringisAwesome\n"
     ]
    }
   ],
   "source": [
    "my_string= \"thisStringisAwesome\"\n",
    "my_string.upper ()\n",
    "print(my_string)"
   ]
  }
 ],
 "metadata": {
  "kernelspec": {
   "display_name": "base",
   "language": "python",
   "name": "python3"
  },
  "language_info": {
   "codemirror_mode": {
    "name": "ipython",
    "version": 3
   },
   "file_extension": ".py",
   "mimetype": "text/x-python",
   "name": "python",
   "nbconvert_exporter": "python",
   "pygments_lexer": "ipython3",
   "version": "3.11.4"
  }
 },
 "nbformat": 4,
 "nbformat_minor": 2
}
